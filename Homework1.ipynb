{
  "nbformat": 4,
  "nbformat_minor": 0,
  "metadata": {
    "colab": {
      "name": "Homework1.ipynb",
      "provenance": [],
      "collapsed_sections": [],
      "include_colab_link": true
    },
    "kernelspec": {
      "name": "python3",
      "display_name": "Python 3"
    }
  },
  "cells": [
    {
      "cell_type": "markdown",
      "metadata": {
        "id": "view-in-github",
        "colab_type": "text"
      },
      "source": [
        "<a href=\"https://colab.research.google.com/github/TobyJChappell/CS_530/blob/master/Homework1.ipynb\" target=\"_parent\"><img src=\"https://colab.research.google.com/assets/colab-badge.svg\" alt=\"Open In Colab\"/></a>"
      ]
    },
    {
      "cell_type": "markdown",
      "metadata": {
        "id": "BctNDobz2AGd"
      },
      "source": [
        "#Homework1"
      ]
    },
    {
      "cell_type": "markdown",
      "metadata": {
        "id": "QQOzkaU62atn"
      },
      "source": [
        "* Question1:\n",
        "\n",
        "During class, when we discussed the OLS method for linear regression, we derived $\\hat\\beta_0$ that minimizes the RSS by taking the partial derivative of the residual sum of squares (RSS) with respective to $\\hat\\beta_0$. \n",
        "\n",
        "$$\n",
        "\\begin{align}\n",
        "RSS &= \\sum^n_{i=1}(y_i-\\hat{y_i})^2 \\\\\n",
        "&= \\sum^n_{i=1}(y_i-\\hat\\beta_0-\\hat\\beta_1x_i)^2\n",
        "\\end{align}\n",
        "$$\n",
        "\n",
        "Go ahead and similarly derive $\\hat\\beta_1$ that minimizes the RSS. Show all your derivation steps; only showing the final answer will not be accepted as the correct answer. You are encouraged to learn Latex and type in your derivation here in the notebook. It will serve you well for the rest of the class. However, for now, you can also derive it on a piece of paper and upload a photo copy of it to Canvas while you are submitting your homework."
      ]
    },
    {
      "cell_type": "markdown",
      "metadata": {
        "id": "FKMuMfLz_NhC"
      },
      "source": [
        "**Write your answers here if you want to use Latex for this question."
      ]
    },
    {
      "cell_type": "markdown",
      "metadata": {
        "id": "xbw88GkG7IEm"
      },
      "source": [
        "* Question2:\n",
        "\n",
        "Based on the derivation you have from the above for $\\hat\\beta_0$ and $\\hat\\beta_1$, design and code functions that calcuate $\\hat\\beta_0$ and $\\hat\\beta_1$ from scratch in Python. (Do not just call a Python function that claculates this for you.)"
      ]
    },
    {
      "cell_type": "code",
      "metadata": {
        "id": "Wxr8lLXs2SUt"
      },
      "source": [
        "# Your answer goes here. Create as many blocks as you need."
      ],
      "execution_count": null,
      "outputs": []
    },
    {
      "cell_type": "markdown",
      "metadata": {
        "id": "FiZklsck2Pui"
      },
      "source": [
        "* Question3:\n",
        "\n",
        "Use the functions you created in Question2 and calculate $\\hat\\beta_0$  and $\\hat\\beta_1$ for the synthetic data given below. X is the independent variable and y is the dependent variable. Also, compare your answer to the one given by the proper function in the *statsmodels* package in Python (show us the code for this comparison). "
      ]
    },
    {
      "cell_type": "code",
      "metadata": {
        "id": "YAfXM3838mLn"
      },
      "source": [
        "from sklearn import datasets\n",
        "(X,y) = datasets.make_regression(n_samples=100, n_features=1, n_informative=1)"
      ],
      "execution_count": null,
      "outputs": []
    },
    {
      "cell_type": "code",
      "metadata": {
        "id": "wp2FqB-s8am7"
      },
      "source": [
        "# Your answer goes here. Create as many blocks as you need."
      ],
      "execution_count": null,
      "outputs": []
    }
  ]
}